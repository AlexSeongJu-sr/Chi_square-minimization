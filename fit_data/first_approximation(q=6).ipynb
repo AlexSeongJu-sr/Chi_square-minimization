{
  "nbformat": 4,
  "nbformat_minor": 0,
  "metadata": {
    "kernelspec": {
      "display_name": "Python 3",
      "language": "python",
      "name": "python3"
    },
    "language_info": {
      "codemirror_mode": {
        "name": "ipython",
        "version": 3
      },
      "file_extension": ".py",
      "mimetype": "text/x-python",
      "name": "python",
      "nbconvert_exporter": "python",
      "pygments_lexer": "ipython3",
      "version": "3.7.4"
    },
    "colab": {
      "name": "first approximation(q=6)",
      "provenance": [],
      "collapsed_sections": []
    }
  },
  "cells": [
    {
      "cell_type": "markdown",
      "metadata": {
        "id": "nUR9yu6Yvwli",
        "colab_type": "text"
      },
      "source": [
        "# 1. Load & visualize the data"
      ]
    },
    {
      "cell_type": "code",
      "metadata": {
        "id": "HGXE8Aswvwlk",
        "colab_type": "code",
        "colab": {}
      },
      "source": [
        "import numpy as np\n",
        "from math import sqrt\n",
        "import pandas as pd\n",
        "import matplotlib.pyplot as plt\n",
        "import csv\n",
        "import pdb\n",
        "# if you need, you can use other libraries\n"
      ],
      "execution_count": null,
      "outputs": []
    },
    {
      "cell_type": "code",
      "metadata": {
        "id": "g5Bnnhq853ar",
        "colab_type": "code",
        "colab": {
          "resources": {
            "http://localhost:8080/nbextensions/google.colab/files.js": {
              "data": "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",
              "ok": true,
              "headers": [
                [
                  "content-type",
                  "application/javascript"
                ]
              ],
              "status": 200,
              "status_text": ""
            }
          },
          "base_uri": "https://localhost:8080/",
          "height": 78
        },
        "outputId": "5aafa8b1-edee-40cb-af78-dce9c5a48c98"
      },
      "source": [
        "from google.colab import files\n",
        "uploaded = files.upload()"
      ],
      "execution_count": null,
      "outputs": [
        {
          "output_type": "display_data",
          "data": {
            "text/html": [
              "\n",
              "     <input type=\"file\" id=\"files-c1ea6ba3-9ac9-4426-9254-085999bf120b\" name=\"files[]\" multiple disabled />\n",
              "     <output id=\"result-c1ea6ba3-9ac9-4426-9254-085999bf120b\">\n",
              "      Upload widget is only available when the cell has been executed in the\n",
              "      current browser session. Please rerun this cell to enable.\n",
              "      </output>\n",
              "      <script src=\"/nbextensions/google.colab/files.js\"></script> "
            ],
            "text/plain": [
              "<IPython.core.display.HTML object>"
            ]
          },
          "metadata": {
            "tags": []
          }
        },
        {
          "output_type": "stream",
          "text": [
            "Saving cuirie_0612_3.txt to cuirie_0612_3.txt\n"
          ],
          "name": "stdout"
        }
      ]
    },
    {
      "cell_type": "code",
      "metadata": {
        "id": "Pa5x8VEw-BHB",
        "colab_type": "code",
        "colab": {
          "base_uri": "https://localhost:8080/",
          "height": 88
        },
        "outputId": "f859a436-0131-475d-84fe-32bc211b175f"
      },
      "source": [
        "a = '1 2 3'\n",
        "b = list(a.split())\n",
        "print(b)\n",
        "for j in b:\n",
        "  print(float(j))"
      ],
      "execution_count": null,
      "outputs": [
        {
          "output_type": "stream",
          "text": [
            "['1', '2', '3']\n",
            "1.0\n",
            "2.0\n",
            "3.0\n"
          ],
          "name": "stdout"
        }
      ]
    },
    {
      "cell_type": "code",
      "metadata": {
        "id": "pvcY8Bb16Whc",
        "colab_type": "code",
        "colab": {}
      },
      "source": [
        "f = open('cuirie_0612_3.txt', 'r', encoding='utf-8')\n",
        "reader=csv.reader(f)\n",
        "x = []\n",
        "y = []\n",
        "fq = 4.37902\n",
        "\n",
        "for i, row in enumerate(reader) :\n",
        "  #pdb.set_trace()\n",
        "  tmp = list(row[0].split())\n",
        "  #print(tmp)\n",
        "  x.append(float(tmp[0]))\n",
        "  y.append(tmp[1:])\n",
        "#x = x[:9]\n",
        "#y = y[:9]\n",
        "y = [[abs(float(k)) for k in Temp] for Temp in y]"
      ],
      "execution_count": null,
      "outputs": []
    },
    {
      "cell_type": "code",
      "metadata": {
        "id": "R5wCHsxD0hAk",
        "colab_type": "code",
        "colab": {
          "base_uri": "https://localhost:8080/",
          "height": 318
        },
        "outputId": "010dca98-8c3c-4f71-c428-54f5c0ebe287"
      },
      "source": [
        "aver_y = [np.mean([y[i]]) for i in range(len(x))]\n",
        "print(x)\n",
        "print(len(aver_y))\n",
        "plt.scatter(x, aver_y)"
      ],
      "execution_count": null,
      "outputs": [
        {
          "output_type": "stream",
          "text": [
            "[51.0, 51.1, 51.2, 51.3, 51.4, 51.5, 51.6, 51.7, 51.8, 51.9, 52.0, 52.1, 52.2, 52.3, 52.4]\n",
            "15\n"
          ],
          "name": "stdout"
        },
        {
          "output_type": "execute_result",
          "data": {
            "text/plain": [
              "<matplotlib.collections.PathCollection at 0x7f440a432fd0>"
            ]
          },
          "metadata": {
            "tags": []
          },
          "execution_count": 7
        },
        {
          "output_type": "display_data",
          "data": {
            "image/png": "[encoded data removed]",
            "text/plain": [
              "<Figure size 432x288 with 1 Axes>"
            ]
          },
          "metadata": {
            "tags": [],
            "needs_background": "light"
          }
        }
      ]
    },
    {
      "cell_type": "code",
      "metadata": {
        "id": "eNg5XA98vwlq",
        "colab_type": "code",
        "colab": {
          "base_uri": "https://localhost:8080/",
          "height": 35
        },
        "outputId": "99eae7ef-48d8-4f46-d1bb-45f9a5d7635d"
      },
      "source": [
        "print(len(y[0]))"
      ],
      "execution_count": null,
      "outputs": [
        {
          "output_type": "stream",
          "text": [
            "50\n"
          ],
          "name": "stdout"
        }
      ]
    },
    {
      "cell_type": "markdown",
      "metadata": {
        "id": "cUmpM3qGvwly",
        "colab_type": "text"
      },
      "source": [
        "# 2. Implement Chi_square_minimization algorithm"
      ]
    },
    {
      "cell_type": "code",
      "metadata": {
        "id": "43sGZxChvwlz",
        "colab_type": "code",
        "colab": {}
      },
      "source": [
        "# Define Cost function J\n",
        "def cost(x, average, theta, inv):\n",
        "    # Compute cost for linear regression\n",
        "    # J is the cost using theta as the parameter for linear regression to fit the data points in X and y\n",
        "\n",
        "    dif = np.zeros((1,len(x)))\n",
        "    dif_t = np.zeros((len(x),1))\n",
        "    \n",
        "    for i in range(len(x)):\n",
        "      tmp=sqrt(fq*(1 - x[i]/theta))\n",
        "      dif[0][i] = average[i] - tmp\n",
        "      dif_t[i][0] = dif[0][i]\n",
        "    \n",
        "    J = np.matmul(dif, np.matmul(inv, dif_t))\n",
        "    return J[0][0]\n"
      ],
      "execution_count": null,
      "outputs": []
    },
    {
      "cell_type": "code",
      "metadata": {
        "id": "_ZrEor_Fdazc",
        "colab_type": "code",
        "colab": {
          "base_uri": "https://localhost:8080/",
          "height": 35
        },
        "outputId": "779e0cbc-1151-4ac5-b009-eee503605353"
      },
      "source": [
        "len(x)"
      ],
      "execution_count": null,
      "outputs": [
        {
          "output_type": "execute_result",
          "data": {
            "text/plain": [
              "15"
            ]
          },
          "metadata": {
            "tags": []
          },
          "execution_count": 9
        }
      ]
    },
    {
      "cell_type": "code",
      "metadata": {
        "id": "S61gaJZyAvgC",
        "colab_type": "code",
        "colab": {
          "base_uri": "https://localhost:8080/",
          "height": 52
        },
        "outputId": "94f8f2ed-9986-4616-c0a7-4d9794bc6041"
      },
      "source": [
        "    dif = np.ones((1,7))\n",
        "    dif_t = np.ones((7,1))\n",
        "    dif[0][2] = 3\n",
        "    dif_t[2] = 5\n",
        "    b = np.matmul(dif, dif_t)\n",
        "    print(b[0][0])"
      ],
      "execution_count": null,
      "outputs": [
        {
          "output_type": "stream",
          "text": [
            "21.0\n",
            "[[21.]]\n"
          ],
          "name": "stdout"
        }
      ]
    },
    {
      "cell_type": "code",
      "metadata": {
        "id": "NiaMA5PKvwl4",
        "colab_type": "code",
        "colab": {}
      },
      "source": [
        "# Implement Gradient descent algorithm\n",
        "def gradient_descent(x, average, theta, alpha, num_iters, inv):\n",
        "    # gradient_descent Performs gradient descent to learn theta\n",
        "    # gradient_descent updates theta by taking num_iters gradient steps with learning rate alpha\n",
        "    \n",
        "    for iter in range(num_iters):\n",
        "        s=[0,0]\n",
        "        rounda = np.zeros((1, len(x)))\n",
        "        roundb = np.zeros((1, len(x)))\n",
        "        dif_t = np.zeros((len(x),1))\n",
        "\n",
        "        for i in range(len(x)):\n",
        "          dif_t[i][0] = sqrt(fq*(1-x[i]/theta)) - average[i]\n",
        "          roundb[0][i] = sqrt(fq)*x[i]/2/sqrt(1-x[i]/theta)/(theta**2)\n",
        "        ###################################################################################\n",
        "        s = 2*np.matmul(roundb, np.matmul(inv, dif_t))[0][0]\n",
        "\n",
        "        theta-=alpha*s\n",
        "        if theta<max(x):\n",
        "          print(\"err\")\n",
        "          theta = max(x)\n",
        "        ###################################################################################\n",
        "          \n",
        "            \n",
        "        ################################################w###################################\n",
        "        #                                  END OF YOUR CODE                               #\n",
        "        ###################################################################################\n",
        "\n",
        "        # Save the cost J in every iteration    \n",
        "        J = cost(x, average, theta, inv)\n",
        "        #print(\"i, theta\", iter, theta, J)\n",
        "        \n",
        "        if (iter+1)%25000 is 0:\n",
        "            print('cost at %d iterations : %f, theta : %f' %(iter+1, J, theta))\n",
        "            \n",
        "    return theta"
      ],
      "execution_count": null,
      "outputs": []
    },
    {
      "cell_type": "code",
      "metadata": {
        "id": "7oS8NrQ1XBkt",
        "colab_type": "code",
        "colab": {
          "base_uri": "https://localhost:8080/",
          "height": 1000
        },
        "outputId": "aecfa50e-9e66-4ef4-fc66-e5c143fe7dbb"
      },
      "source": [
        "N = len(x)\n",
        "###################################################################################\n",
        "average = np.zeros((50,N))\n",
        "covariance = np.zeros((50, N, N))\n",
        "theta = np.zeros(50)\n",
        "ki_square = np.zeros(50)\n",
        "dif = np.zeros((1,N))\n",
        "dif_t = np.zeros((N,1))\n",
        "\n",
        "for out in range(50):\n",
        "  print('out : ', out)\n",
        "  for i in range(N):\n",
        "    s = 0\n",
        "    for j in range(50):\n",
        "      if j==out:\n",
        "        continue\n",
        "      s += y[i][j]\n",
        "    average[out][i] = s/49\n",
        "  #plt.scatter(x, average[out])\n",
        "  #pdb.set_trace()\n",
        "  for i in range(N):\n",
        "    for j in range(N):\n",
        "      sum = 0\n",
        "      for k in range(50):\n",
        "        if k==out:\n",
        "          continue\n",
        "        sum += (y[i][k] - average[out][i])*(y[j][k] - average[out][j])\n",
        "      covariance[out][i][j] = sum/(49*48)\n",
        "  #print(\"cov\", covariance[out])\n",
        "\n",
        "  cov_inv = np.linalg.inv(covariance[out])\n",
        "  num_iters = 100000\n",
        "  alpha = 0.00001\n",
        "  theta[out] = 53.6\n",
        "  # compute initial cost\n",
        "  init_J = cost(x, average[out], theta[out], cov_inv)\n",
        "  print('initial cost : %f' %init_J)\n",
        "\n",
        "  # excute gradient descent\n",
        "  theta[out] = gradient_descent(x, average[out], theta[out], alpha, num_iters, cov_inv)\n",
        "\n",
        "  # compute new cost\n",
        "  new_J = cost(x, average[out], theta[out], cov_inv)\n",
        "  for i in range(N):\n",
        "    dif[0][i] = average[out][i] - sqrt(fq*(1 - x[i]/theta[out]))\n",
        "    dif_t[i][0] = dif[0][i]\n",
        "  ki_square[out] = np.matmul(dif, np.matmul(cov_inv, dif_t))[0][0]\n",
        "\n",
        "  print('updated theta : ', theta[out])\n",
        "  print('updated cost : %f' %new_J)\n",
        "\n",
        "#def cost(x, average, theta, inv):\n",
        "#def gradient_descent(x, average, theta, alpha, num_iters, inv)\n",
        "\n",
        "#data_x, data_y = x,y\n",
        "###################################################################################\n",
        "#                                  END OF YOUR CODE                               #\n",
        "###################################################################################\n"
      ],
      "execution_count": null,
      "outputs": [
        {
          "output_type": "stream",
          "text": [
            "out :  0\n",
            "initial cost : 65.127051\n",
            "cost at 25000 iterations : 35.530727, theta : 53.846519\n",
            "cost at 50000 iterations : 35.530727, theta : 53.846519\n",
            "cost at 75000 iterations : 35.530727, theta : 53.846519\n",
            "cost at 100000 iterations : 35.530727, theta : 53.846519\n",
            "updated theta :  53.846519445503766\n",
            "updated cost : 35.530727\n",
            "out :  1\n",
            "initial cost : 63.263225\n",
            "cost at 25000 iterations : 32.371963, theta : 53.851207\n",
            "cost at 50000 iterations : 32.371963, theta : 53.851207\n",
            "cost at 75000 iterations : 32.371963, theta : 53.851207\n",
            "cost at 100000 iterations : 32.371963, theta : 53.851207\n",
            "updated theta :  53.85120662147256\n",
            "updated cost : 32.371963\n",
            "out :  2\n",
            "initial cost : 69.010304\n",
            "cost at 25000 iterations : 32.625275, theta : 53.858700\n",
            "cost at 50000 iterations : 32.625275, theta : 53.858700\n",
            "cost at 75000 iterations : 32.625275, theta : 53.858700\n",
            "cost at 100000 iterations : 32.625275, theta : 53.858700\n",
            "updated theta :  53.858699836720874\n",
            "updated cost : 32.625275\n",
            "out :  3\n",
            "initial cost : 63.126088\n",
            "cost at 25000 iterations : 32.751265, theta : 53.850214\n",
            "cost at 50000 iterations : 32.751265, theta : 53.850214\n",
            "cost at 75000 iterations : 32.751265, theta : 53.850214\n",
            "cost at 100000 iterations : 32.751265, theta : 53.850214\n",
            "updated theta :  53.85021426850234\n",
            "updated cost : 32.751265\n",
            "out :  4\n",
            "initial cost : 68.953194\n",
            "cost at 25000 iterations : 34.966242, theta : 53.861994\n",
            "cost at 50000 iterations : 34.966242, theta : 53.861994\n",
            "cost at 75000 iterations : 34.966242, theta : 53.861994\n",
            "cost at 100000 iterations : 34.966242, theta : 53.861994\n",
            "updated theta :  53.8619944676072\n",
            "updated cost : 34.966242\n",
            "out :  5\n",
            "initial cost : 78.620366\n",
            "cost at 25000 iterations : 34.902379, theta : 53.878946\n",
            "cost at 50000 iterations : 34.902379, theta : 53.878946\n",
            "cost at 75000 iterations : 34.902379, theta : 53.878946\n",
            "cost at 100000 iterations : 34.902379, theta : 53.878946\n",
            "updated theta :  53.87894567384854\n",
            "updated cost : 34.902379\n",
            "out :  6\n",
            "initial cost : 63.515952\n",
            "cost at 25000 iterations : 33.005307, theta : 53.838636\n",
            "cost at 50000 iterations : 33.005307, theta : 53.838636\n",
            "cost at 75000 iterations : 33.005307, theta : 53.838636\n",
            "cost at 100000 iterations : 33.005307, theta : 53.838636\n",
            "updated theta :  53.83863552101526\n",
            "updated cost : 33.005307\n",
            "out :  7\n",
            "initial cost : 64.118781\n",
            "cost at 25000 iterations : 33.587084, theta : 53.850914\n",
            "cost at 50000 iterations : 33.587084, theta : 53.850914\n",
            "cost at 75000 iterations : 33.587084, theta : 53.850914\n",
            "cost at 100000 iterations : 33.587084, theta : 53.850914\n",
            "updated theta :  53.850913981847654\n",
            "updated cost : 33.587084\n",
            "out :  8\n",
            "initial cost : 62.740738\n",
            "cost at 25000 iterations : 32.518088, theta : 53.848396\n",
            "cost at 50000 iterations : 32.518088, theta : 53.848396\n",
            "cost at 75000 iterations : 32.518088, theta : 53.848396\n",
            "cost at 100000 iterations : 32.518088, theta : 53.848396\n",
            "updated theta :  53.848396253121265\n",
            "updated cost : 32.518088\n",
            "out :  9\n",
            "initial cost : 99.829779\n",
            "cost at 25000 iterations : 41.649197, theta : 53.913815\n",
            "cost at 50000 iterations : 41.649197, theta : 53.913815\n",
            "cost at 75000 iterations : 41.649197, theta : 53.913815\n",
            "cost at 100000 iterations : 41.649197, theta : 53.913815\n",
            "updated theta :  53.91381524660754\n",
            "updated cost : 41.649197\n",
            "out :  10\n",
            "initial cost : 67.886950\n",
            "cost at 25000 iterations : 39.545559, theta : 53.840517\n",
            "cost at 50000 iterations : 39.545559, theta : 53.840517\n",
            "cost at 75000 iterations : 39.545559, theta : 53.840517\n",
            "cost at 100000 iterations : 39.545559, theta : 53.840517\n",
            "updated theta :  53.84051701871117\n",
            "updated cost : 39.545559\n",
            "out :  11\n",
            "initial cost : 62.732294\n",
            "cost at 25000 iterations : 33.512471, theta : 53.840008\n",
            "cost at 50000 iterations : 33.512471, theta : 53.840008\n",
            "cost at 75000 iterations : 33.512471, theta : 53.840008\n",
            "cost at 100000 iterations : 33.512471, theta : 53.840008\n",
            "updated theta :  53.8400077238554\n",
            "updated cost : 33.512471\n",
            "out :  12\n",
            "initial cost : 66.953228\n",
            "cost at 25000 iterations : 41.384031, theta : 53.825185\n",
            "cost at 50000 iterations : 41.384031, theta : 53.825185\n",
            "cost at 75000 iterations : 41.384031, theta : 53.825185\n",
            "cost at 100000 iterations : 41.384031, theta : 53.825185\n",
            "updated theta :  53.82518456014019\n",
            "updated cost : 41.384031\n",
            "out :  13\n",
            "initial cost : 65.032893\n",
            "cost at 25000 iterations : 33.811317, theta : 53.853439\n",
            "cost at 50000 iterations : 33.811317, theta : 53.853439\n",
            "cost at 75000 iterations : 33.811317, theta : 53.853439\n",
            "cost at 100000 iterations : 33.811317, theta : 53.853439\n",
            "updated theta :  53.85343923277047\n",
            "updated cost : 33.811317\n",
            "out :  14\n",
            "initial cost : 62.903046\n",
            "cost at 25000 iterations : 32.905281, theta : 53.842781\n",
            "cost at 50000 iterations : 32.905281, theta : 53.842781\n",
            "cost at 75000 iterations : 32.905281, theta : 53.842781\n",
            "cost at 100000 iterations : 32.905281, theta : 53.842781\n",
            "updated theta :  53.84278109547147\n",
            "updated cost : 32.905281\n",
            "out :  15\n",
            "initial cost : 62.948619\n",
            "cost at 25000 iterations : 32.394924, theta : 53.850730\n",
            "cost at 50000 iterations : 32.394924, theta : 53.850730\n",
            "cost at 75000 iterations : 32.394924, theta : 53.850730\n",
            "cost at 100000 iterations : 32.394924, theta : 53.850730\n",
            "updated theta :  53.85073023497879\n",
            "updated cost : 32.394924\n",
            "out :  16\n",
            "initial cost : 65.683187\n",
            "cost at 25000 iterations : 34.771483, theta : 53.852421\n",
            "cost at 50000 iterations : 34.771483, theta : 53.852421\n",
            "cost at 75000 iterations : 34.771483, theta : 53.852421\n",
            "cost at 100000 iterations : 34.771483, theta : 53.852421\n",
            "updated theta :  53.8524213861819\n",
            "updated cost : 34.771483\n",
            "out :  17\n",
            "initial cost : 62.759309\n",
            "cost at 25000 iterations : 33.505373, theta : 53.838900\n",
            "cost at 50000 iterations : 33.505373, theta : 53.838900\n",
            "cost at 75000 iterations : 33.505373, theta : 53.838900\n",
            "cost at 100000 iterations : 33.505373, theta : 53.838900\n",
            "updated theta :  53.83889964418575\n",
            "updated cost : 33.505373\n",
            "out :  18\n",
            "initial cost : 63.547014\n",
            "cost at 25000 iterations : 34.539451, theta : 53.843088\n",
            "cost at 50000 iterations : 34.539451, theta : 53.843088\n",
            "cost at 75000 iterations : 34.539451, theta : 53.843088\n",
            "cost at 100000 iterations : 34.539451, theta : 53.843088\n",
            "updated theta :  53.843088017361296\n",
            "updated cost : 34.539451\n",
            "out :  19\n",
            "initial cost : 62.806938\n",
            "cost at 25000 iterations : 33.571929, theta : 53.842360\n",
            "cost at 50000 iterations : 33.571929, theta : 53.842360\n",
            "cost at 75000 iterations : 33.571929, theta : 53.842360\n",
            "cost at 100000 iterations : 33.571929, theta : 53.842360\n",
            "updated theta :  53.842359826139926\n",
            "updated cost : 33.571929\n",
            "out :  20\n",
            "initial cost : 63.860567\n",
            "cost at 25000 iterations : 32.925186, theta : 53.852171\n",
            "cost at 50000 iterations : 32.925186, theta : 53.852171\n",
            "cost at 75000 iterations : 32.925186, theta : 53.852171\n",
            "cost at 100000 iterations : 32.925186, theta : 53.852171\n",
            "updated theta :  53.85217122969185\n",
            "updated cost : 32.925186\n",
            "out :  21\n",
            "initial cost : 64.697192\n",
            "cost at 25000 iterations : 34.458952, theta : 53.849540\n",
            "cost at 50000 iterations : 34.458952, theta : 53.849540\n",
            "cost at 75000 iterations : 34.458952, theta : 53.849540\n",
            "cost at 100000 iterations : 34.458952, theta : 53.849540\n",
            "updated theta :  53.84954037668933\n",
            "updated cost : 34.458952\n",
            "out :  22\n",
            "initial cost : 64.187688\n",
            "cost at 25000 iterations : 33.655101, theta : 53.850958\n",
            "cost at 50000 iterations : 33.655101, theta : 53.850958\n",
            "cost at 75000 iterations : 33.655101, theta : 53.850958\n",
            "cost at 100000 iterations : 33.655101, theta : 53.850958\n",
            "updated theta :  53.850957878166156\n",
            "updated cost : 33.655101\n",
            "out :  23\n",
            "initial cost : 63.592135\n",
            "cost at 25000 iterations : 35.815874, theta : 53.835164\n",
            "cost at 50000 iterations : 35.815874, theta : 53.835164\n",
            "cost at 75000 iterations : 35.815874, theta : 53.835164\n",
            "cost at 100000 iterations : 35.815874, theta : 53.835164\n",
            "updated theta :  53.835164121619485\n",
            "updated cost : 35.815874\n",
            "out :  24\n",
            "initial cost : 63.744007\n",
            "cost at 25000 iterations : 33.376082, theta : 53.850074\n",
            "cost at 50000 iterations : 33.376082, theta : 53.850074\n",
            "cost at 75000 iterations : 33.376082, theta : 53.850074\n",
            "cost at 100000 iterations : 33.376082, theta : 53.850074\n",
            "updated theta :  53.850073729187066\n",
            "updated cost : 33.376082\n",
            "out :  25\n",
            "initial cost : 68.906109\n",
            "cost at 25000 iterations : 33.678395, theta : 53.862831\n",
            "cost at 50000 iterations : 33.678395, theta : 53.862831\n",
            "cost at 75000 iterations : 33.678395, theta : 53.862831\n",
            "cost at 100000 iterations : 33.678395, theta : 53.862831\n",
            "updated theta :  53.862831061747244\n",
            "updated cost : 33.678395\n",
            "out :  26\n",
            "initial cost : 62.793843\n",
            "cost at 25000 iterations : 34.441645, theta : 53.829354\n",
            "cost at 50000 iterations : 34.441645, theta : 53.829354\n",
            "cost at 75000 iterations : 34.441645, theta : 53.829354\n",
            "cost at 100000 iterations : 34.441645, theta : 53.829354\n",
            "updated theta :  53.82935361837651\n",
            "updated cost : 34.441645\n",
            "out :  27\n",
            "initial cost : 68.132155\n",
            "cost at 25000 iterations : 40.849518, theta : 53.835138\n",
            "cost at 50000 iterations : 40.849518, theta : 53.835138\n",
            "cost at 75000 iterations : 40.849518, theta : 53.835138\n",
            "cost at 100000 iterations : 40.849518, theta : 53.835138\n",
            "updated theta :  53.835137996762654\n",
            "updated cost : 40.849518\n",
            "out :  28\n",
            "initial cost : 69.676757\n",
            "cost at 25000 iterations : 36.563435, theta : 53.860116\n",
            "cost at 50000 iterations : 36.563435, theta : 53.860116\n",
            "cost at 75000 iterations : 36.563435, theta : 53.860116\n",
            "cost at 100000 iterations : 36.563435, theta : 53.860116\n",
            "updated theta :  53.86011555922343\n",
            "updated cost : 36.563435\n",
            "out :  29\n",
            "initial cost : 68.421537\n",
            "cost at 25000 iterations : 34.651474, theta : 53.861206\n",
            "cost at 50000 iterations : 34.651474, theta : 53.861206\n",
            "cost at 75000 iterations : 34.651474, theta : 53.861206\n",
            "cost at 100000 iterations : 34.651474, theta : 53.861206\n",
            "updated theta :  53.86120553285546\n",
            "updated cost : 34.651474\n",
            "out :  30\n",
            "initial cost : 69.775496\n",
            "cost at 25000 iterations : 37.516895, theta : 53.857585\n",
            "cost at 50000 iterations : 37.516895, theta : 53.857585\n",
            "cost at 75000 iterations : 37.516895, theta : 53.857585\n",
            "cost at 100000 iterations : 37.516895, theta : 53.857585\n",
            "updated theta :  53.85758522410573\n",
            "updated cost : 37.516895\n",
            "out :  31\n",
            "initial cost : 65.327298\n",
            "cost at 25000 iterations : 32.926111, theta : 53.855681\n",
            "cost at 50000 iterations : 32.926111, theta : 53.855681\n",
            "cost at 75000 iterations : 32.926111, theta : 53.855681\n",
            "cost at 100000 iterations : 32.926111, theta : 53.855681\n",
            "updated theta :  53.85568091558293\n",
            "updated cost : 32.926111\n",
            "out :  32\n",
            "initial cost : 62.857010\n",
            "cost at 25000 iterations : 33.488573, theta : 53.837330\n",
            "cost at 50000 iterations : 33.488573, theta : 53.837330\n",
            "cost at 75000 iterations : 33.488573, theta : 53.837330\n",
            "cost at 100000 iterations : 33.488573, theta : 53.837330\n",
            "updated theta :  53.83733033710126\n",
            "updated cost : 33.488573\n",
            "out :  33\n",
            "initial cost : 68.211488\n",
            "cost at 25000 iterations : 36.936518, theta : 53.853936\n",
            "cost at 50000 iterations : 36.936518, theta : 53.853936\n",
            "cost at 75000 iterations : 36.936518, theta : 53.853936\n",
            "cost at 100000 iterations : 36.936518, theta : 53.853936\n",
            "updated theta :  53.85393598445494\n",
            "updated cost : 36.936518\n",
            "out :  34\n",
            "initial cost : 64.255902\n",
            "cost at 25000 iterations : 37.216339, theta : 53.831631\n",
            "cost at 50000 iterations : 37.216339, theta : 53.831631\n",
            "cost at 75000 iterations : 37.216339, theta : 53.831631\n",
            "cost at 100000 iterations : 37.216339, theta : 53.831631\n",
            "updated theta :  53.83163125016113\n",
            "updated cost : 37.216339\n",
            "out :  35\n",
            "initial cost : 66.804990\n",
            "cost at 25000 iterations : 32.639169, theta : 53.856939\n",
            "cost at 50000 iterations : 32.639169, theta : 53.856939\n",
            "cost at 75000 iterations : 32.639169, theta : 53.856939\n",
            "cost at 100000 iterations : 32.639169, theta : 53.856939\n",
            "updated theta :  53.85693854840902\n",
            "updated cost : 32.639169\n",
            "out :  36\n",
            "initial cost : 69.046858\n",
            "cost at 25000 iterations : 35.000391, theta : 53.862140\n",
            "cost at 50000 iterations : 35.000391, theta : 53.862140\n",
            "cost at 75000 iterations : 35.000391, theta : 53.862140\n",
            "cost at 100000 iterations : 35.000391, theta : 53.862140\n",
            "updated theta :  53.862140105714076\n",
            "updated cost : 35.000391\n",
            "out :  37\n",
            "initial cost : 63.073026\n",
            "cost at 25000 iterations : 32.404465, theta : 53.851015\n",
            "cost at 50000 iterations : 32.404465, theta : 53.851015\n",
            "cost at 75000 iterations : 32.404465, theta : 53.851015\n",
            "cost at 100000 iterations : 32.404465, theta : 53.851015\n",
            "updated theta :  53.85101483215805\n",
            "updated cost : 32.404465\n",
            "out :  38\n",
            "initial cost : 70.568786\n",
            "cost at 25000 iterations : 32.914743, theta : 53.862520\n",
            "cost at 50000 iterations : 32.914743, theta : 53.862520\n",
            "cost at 75000 iterations : 32.914743, theta : 53.862520\n",
            "cost at 100000 iterations : 32.914743, theta : 53.862520\n",
            "updated theta :  53.8625195194356\n",
            "updated cost : 32.914743\n",
            "out :  39\n",
            "initial cost : 62.842221\n",
            "cost at 25000 iterations : 32.447478, theta : 53.850296\n",
            "cost at 50000 iterations : 32.447478, theta : 53.850296\n",
            "cost at 75000 iterations : 32.447478, theta : 53.850296\n",
            "cost at 100000 iterations : 32.447478, theta : 53.850296\n",
            "updated theta :  53.85029641076857\n",
            "updated cost : 32.447478\n",
            "out :  40\n",
            "initial cost : 63.042912\n",
            "cost at 25000 iterations : 32.398378, theta : 53.850951\n",
            "cost at 50000 iterations : 32.398378, theta : 53.850951\n",
            "cost at 75000 iterations : 32.398378, theta : 53.850951\n",
            "cost at 100000 iterations : 32.398378, theta : 53.850951\n",
            "updated theta :  53.850950971445215\n",
            "updated cost : 32.398378\n",
            "out :  41\n",
            "initial cost : 70.042155\n",
            "cost at 25000 iterations : 34.324368, theta : 53.865088\n",
            "cost at 50000 iterations : 34.324368, theta : 53.865088\n",
            "cost at 75000 iterations : 34.324368, theta : 53.865088\n",
            "cost at 100000 iterations : 34.324368, theta : 53.865088\n",
            "updated theta :  53.86508808315511\n",
            "updated cost : 34.324368\n",
            "out :  42\n",
            "initial cost : 64.059835\n",
            "cost at 25000 iterations : 32.792867, theta : 53.853040\n",
            "cost at 50000 iterations : 32.792867, theta : 53.853040\n",
            "cost at 75000 iterations : 32.792867, theta : 53.853040\n",
            "cost at 100000 iterations : 32.792867, theta : 53.853040\n",
            "updated theta :  53.85304027443613\n",
            "updated cost : 32.792867\n",
            "out :  43\n",
            "initial cost : 62.758664\n",
            "cost at 25000 iterations : 32.336336, theta : 53.850150\n",
            "cost at 50000 iterations : 32.336336, theta : 53.850150\n",
            "cost at 75000 iterations : 32.336336, theta : 53.850150\n",
            "cost at 100000 iterations : 32.336336, theta : 53.850150\n",
            "updated theta :  53.85015000213897\n",
            "updated cost : 32.336336\n",
            "out :  44\n",
            "initial cost : 64.458815\n",
            "cost at 25000 iterations : 33.921318, theta : 53.850891\n",
            "cost at 50000 iterations : 33.921318, theta : 53.850891\n",
            "cost at 75000 iterations : 33.921318, theta : 53.850891\n",
            "cost at 100000 iterations : 33.921318, theta : 53.850891\n",
            "updated theta :  53.85089070456431\n",
            "updated cost : 33.921318\n",
            "out :  45\n",
            "initial cost : 69.206001\n",
            "cost at 25000 iterations : 37.024301, theta : 53.857136\n",
            "cost at 50000 iterations : 37.024301, theta : 53.857136\n",
            "cost at 75000 iterations : 37.024301, theta : 53.857136\n",
            "cost at 100000 iterations : 37.024301, theta : 53.857136\n",
            "updated theta :  53.857136210479986\n",
            "updated cost : 37.024301\n",
            "out :  46\n",
            "initial cost : 67.952757\n",
            "cost at 25000 iterations : 40.111749, theta : 53.838200\n",
            "cost at 50000 iterations : 40.111749, theta : 53.838200\n",
            "cost at 75000 iterations : 40.111749, theta : 53.838200\n",
            "cost at 100000 iterations : 40.111749, theta : 53.838200\n",
            "updated theta :  53.838200372171116\n",
            "updated cost : 40.111749\n",
            "out :  47\n",
            "initial cost : 63.034064\n",
            "cost at 25000 iterations : 33.301681, theta : 53.846491\n",
            "cost at 50000 iterations : 33.301681, theta : 53.846491\n",
            "cost at 75000 iterations : 33.301681, theta : 53.846491\n",
            "cost at 100000 iterations : 33.301681, theta : 53.846491\n",
            "updated theta :  53.84649115397854\n",
            "updated cost : 33.301681\n",
            "out :  48\n",
            "initial cost : 64.273371\n",
            "cost at 25000 iterations : 34.251924, theta : 53.848636\n",
            "cost at 50000 iterations : 34.251924, theta : 53.848636\n",
            "cost at 75000 iterations : 34.251924, theta : 53.848636\n",
            "cost at 100000 iterations : 34.251924, theta : 53.848636\n",
            "updated theta :  53.84863638991259\n",
            "updated cost : 34.251924\n",
            "out :  49\n",
            "initial cost : 63.157061\n",
            "cost at 25000 iterations : 32.432773, theta : 53.847677\n",
            "cost at 50000 iterations : 32.432773, theta : 53.847677\n",
            "cost at 75000 iterations : 32.432773, theta : 53.847677\n",
            "cost at 100000 iterations : 32.432773, theta : 53.847677\n",
            "updated theta :  53.847677280143\n",
            "updated cost : 32.432773\n"
          ],
          "name": "stdout"
        }
      ]
    },
    {
      "cell_type": "code",
      "metadata": {
        "id": "GPP3YlQnjAHl",
        "colab_type": "code",
        "colab": {
          "base_uri": "https://localhost:8080/",
          "height": 195
        },
        "outputId": "93266678-58f8-45f6-e505-54d878905ad8"
      },
      "source": [
        "theta"
      ],
      "execution_count": null,
      "outputs": [
        {
          "output_type": "execute_result",
          "data": {
            "text/plain": [
              "array([53.84651945, 53.85120662, 53.85869984, 53.85021427, 53.86199447,\n",
              "       53.87894567, 53.83863552, 53.85091398, 53.84839625, 53.91381525,\n",
              "       53.84051702, 53.84000772, 53.82518456, 53.85343923, 53.8427811 ,\n",
              "       53.85073023, 53.85242139, 53.83889964, 53.84308802, 53.84235983,\n",
              "       53.85217123, 53.84954038, 53.85095788, 53.83516412, 53.85007373,\n",
              "       53.86283106, 53.82935362, 53.835138  , 53.86011556, 53.86120553,\n",
              "       53.85758522, 53.85568092, 53.83733034, 53.85393598, 53.83163125,\n",
              "       53.85693855, 53.86214011, 53.85101483, 53.86251952, 53.85029641,\n",
              "       53.85095097, 53.86508808, 53.85304027, 53.85015   , 53.8508907 ,\n",
              "       53.85713621, 53.83820037, 53.84649115, 53.84863639, 53.84767728])"
            ]
          },
          "metadata": {
            "tags": []
          },
          "execution_count": 12
        }
      ]
    },
    {
      "cell_type": "code",
      "metadata": {
        "id": "sGF6kLtOy6s5",
        "colab_type": "code",
        "colab": {
          "base_uri": "https://localhost:8080/",
          "height": 195
        },
        "outputId": "34f9f17f-af4d-42f5-d7c8-ec35684f4160"
      },
      "source": [
        "ki_square"
      ],
      "execution_count": null,
      "outputs": [
        {
          "output_type": "execute_result",
          "data": {
            "text/plain": [
              "array([35.53072657, 32.37196299, 32.62527497, 32.75126536, 34.96624155,\n",
              "       34.90237853, 33.00530685, 33.58708367, 32.51808812, 41.64919659,\n",
              "       39.54555884, 33.51247088, 41.38403138, 33.81131723, 32.90528093,\n",
              "       32.39492424, 34.77148322, 33.50537275, 34.53945113, 33.57192916,\n",
              "       32.92518631, 34.45895216, 33.65510089, 35.81587363, 33.37608195,\n",
              "       33.67839485, 34.44164532, 40.84951783, 36.56343529, 34.65147407,\n",
              "       37.51689485, 32.92611084, 33.48857264, 36.93651803, 37.2163394 ,\n",
              "       32.63916876, 35.0003909 , 32.40446523, 32.91474309, 32.44747756,\n",
              "       32.39837801, 34.32436824, 32.79286733, 32.33633605, 33.9213183 ,\n",
              "       37.02430108, 40.11174857, 33.30168142, 34.25192435, 32.43277285])"
            ]
          },
          "metadata": {
            "tags": []
          },
          "execution_count": 13
        }
      ]
    },
    {
      "cell_type": "code",
      "metadata": {
        "id": "cOJhOW6tNO96",
        "colab_type": "code",
        "colab": {
          "base_uri": "https://localhost:8080/",
          "height": 170
        },
        "outputId": "2a3b1244-1888-43e9-8146-563bbe0d735b"
      },
      "source": [
        "dof"
      ],
      "execution_count": null,
      "outputs": [
        {
          "output_type": "error",
          "ename": "NameError",
          "evalue": "ignored",
          "traceback": [
            "\u001b[0;31m---------------------------------------------------------------------------\u001b[0m",
            "\u001b[0;31mNameError\u001b[0m                                 Traceback (most recent call last)",
            "\u001b[0;32m<ipython-input-14-2d13fb905764>\u001b[0m in \u001b[0;36m<module>\u001b[0;34m()\u001b[0m\n\u001b[0;32m----> 1\u001b[0;31m \u001b[0mdof\u001b[0m\u001b[0;34m\u001b[0m\u001b[0;34m\u001b[0m\u001b[0m\n\u001b[0m",
            "\u001b[0;31mNameError\u001b[0m: name 'dof' is not defined"
          ]
        }
      ]
    },
    {
      "cell_type": "code",
      "metadata": {
        "id": "QPV0amWRvwl7",
        "colab_type": "code",
        "colab": {
          "base_uri": "https://localhost:8080/",
          "height": 88
        },
        "outputId": "5554dd70-aae8-4ed0-84cc-82bc91d0ec1d"
      },
      "source": [
        "theta_aver = np.zeros(1)\n",
        "theta_err = np.zeros(1)\n",
        "theta_sum = np.zeros(1)\n",
        "\n",
        "for i in range(1):\n",
        "  tmp = 0\n",
        "  for j in range(50):\n",
        "    tmp += theta[j]\n",
        "  theta_aver[i] = tmp/50\n",
        "\n",
        "for i in range(1):\n",
        "  tmp = 0\n",
        "  for j in range(50):\n",
        "    tmp += (theta_aver[i] - theta[j])**2\n",
        "  theta_err[i] = sqrt(49/50*tmp)\n",
        "\n",
        "print(\"Tc_average : \", theta_aver[0])\n",
        "print(\"Tc_err : \", theta_err[0])\n",
        "\n",
        "tmp = 0\n",
        "for i in range(50):\n",
        "  tmp += ki_square[i]\n",
        "ki_aver = tmp/50\n",
        "dof = N-1 #degree of freedom. 9-2=7\n",
        "\n",
        "tmp = 0\n",
        "for i in range(50):\n",
        "  tmp += (ki_aver/dof - ki_square[i]/dof)**2\n",
        "ki_err = sqrt(49/50*tmp)\n",
        "\n",
        "print(\"chi_square/dof : \", ki_aver/dof)\n",
        "print(\"chi/dof_err : \", ki_err)\n",
        "\n"
      ],
      "execution_count": null,
      "outputs": [
        {
          "output_type": "stream",
          "text": [
            "Tc_average :  53.85085311461357\n",
            "Tc_err :  0.09399536420825075\n",
            "chi_square/dof :  2.4723591210861433\n",
            "chi/dof_err :  1.2276685225661026\n"
          ],
          "name": "stdout"
        }
      ]
    },
    {
      "cell_type": "markdown",
      "metadata": {
        "id": "WA6N-gbHvwl_",
        "colab_type": "text"
      },
      "source": [
        "# 3. Plot the linear regression fit"
      ]
    },
    {
      "cell_type": "code",
      "metadata": {
        "id": "dyXPNwMEfDxW",
        "colab_type": "code",
        "colab": {
          "base_uri": "https://localhost:8080/",
          "height": 404
        },
        "outputId": "6cddf036-523d-44e7-8877-b96790448aed"
      },
      "source": [
        "# Plot the scatter plot and linear regression fit\n",
        "\n",
        "###################################################################################\n",
        "aver_y = [np.mean([y[i]]) for i in range(len(x))]\n",
        "print(x)\n",
        "print(aver_y)\n",
        "\n",
        "plt.xlabel('T(K)')\n",
        "plt.ylabel('L')\n",
        "plt.title('T-L graph')\n",
        "plt.scatter(x, aver_y)\n",
        "new_x=np.arange(min(x),55,0.1)\n",
        "print(len(new_x))\n",
        "nx=len(new_x)\n",
        "import pdb\n",
        "#pdb.set_trace()\n",
        "#new_y=new_x*(theta[1]*np.ones(len(new_x)))+(theta[0]*np.ones(len(new_x)))\n",
        "new_y = np.sqrt(fq*(np.ones(nx) - new_x/theta_aver[0]))\n",
        "plt.plot(new_x,new_y,'r')\n",
        "\n"
      ],
      "execution_count": null,
      "outputs": [
        {
          "output_type": "stream",
          "text": [
            "[51.0, 51.1, 51.2, 51.3, 51.4, 51.5, 51.6, 51.7, 51.8, 51.9, 52.0, 52.1, 52.2, 52.3, 52.4]\n",
            "[0.45583999999999997, 0.50384, 0.4562800000000001, 0.4652400000000001, 0.4134399999999999, 0.41408000000000006, 0.4414, 0.39232, 0.4649999999999999, 0.38543999999999995, 0.39452000000000004, 0.3683600000000001, 0.35436, 0.35168, 0.33043999999999996]\n",
            "40\n"
          ],
          "name": "stdout"
        },
        {
          "output_type": "stream",
          "text": [
            "/usr/local/lib/python3.6/dist-packages/ipykernel_launcher.py:18: RuntimeWarning: invalid value encountered in sqrt\n"
          ],
          "name": "stderr"
        },
        {
          "output_type": "execute_result",
          "data": {
            "text/plain": [
              "[<matplotlib.lines.Line2D at 0x7f44076c75c0>]"
            ]
          },
          "metadata": {
            "tags": []
          },
          "execution_count": 24
        },
        {
          "output_type": "display_data",
          "data": {
            "image/png": "[encoded data removed]",
            "text/plain": [
              "<Figure size 432x288 with 1 Axes>"
            ]
          },
          "metadata": {
            "tags": [],
            "needs_background": "light"
          }
        }
      ]
    }
  ]
}