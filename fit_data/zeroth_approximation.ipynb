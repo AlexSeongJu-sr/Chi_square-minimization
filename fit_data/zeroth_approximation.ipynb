{
  "nbformat": 4,
  "nbformat_minor": 0,
  "metadata": {
    "kernelspec": {
      "display_name": "Python 3",
      "language": "python",
      "name": "python3"
    },
    "language_info": {
      "codemirror_mode": {
        "name": "ipython",
        "version": 3
      },
      "file_extension": ".py",
      "mimetype": "text/x-python",
      "name": "python",
      "nbconvert_exporter": "python",
      "pygments_lexer": "ipython3",
      "version": "3.7.4"
    },
    "colab": {
      "name": "zeroth approximation",
      "provenance": [],
      "collapsed_sections": [],
      "toc_visible": true
    }
  },
  "cells": [
    {
      "cell_type": "markdown",
      "metadata": {
        "id": "nUR9yu6Yvwli",
        "colab_type": "text"
      },
      "source": [
        "# 1. Load & visualize the data"
      ]
    },
    {
      "cell_type": "code",
      "metadata": {
        "id": "HGXE8Aswvwlk",
        "colab_type": "code",
        "colab": {}
      },
      "source": [
        "import numpy as np\n",
        "from math import sqrt\n",
        "import pandas as pd\n",
        "import matplotlib.pyplot as plt\n",
        "import csv\n",
        "import pdb\n",
        "# if you need, you can use other libraries\n"
      ],
      "execution_count": null,
      "outputs": []
    },
    {
      "cell_type": "code",
      "metadata": {
        "id": "g5Bnnhq853ar",
        "colab_type": "code",
        "colab": {
          "resources": {
            "http://localhost:8080/nbextensions/google.colab/files.js": {
              "data": "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",
              "ok": true,
              "headers": [
                [
                  "content-type",
                  "application/javascript"
                ]
              ],
              "status": 200,
              "status_text": ""
            }
          },
          "base_uri": "https://localhost:8080/",
          "height": 78
        },
        "outputId": "7b6406ee-21ba-4eac-d76d-4760aae8a18e"
      },
      "source": [
        "from google.colab import files\n",
        "uploaded = files.upload()"
      ],
      "execution_count": null,
      "outputs": [
        {
          "output_type": "display_data",
          "data": {
            "text/html": [
              "\n",
              "     <input type=\"file\" id=\"files-eb443619-c59b-4618-866c-7dfd727698e7\" name=\"files[]\" multiple disabled />\n",
              "     <output id=\"result-eb443619-c59b-4618-866c-7dfd727698e7\">\n",
              "      Upload widget is only available when the cell has been executed in the\n",
              "      current browser session. Please rerun this cell to enable.\n",
              "      </output>\n",
              "      <script src=\"/nbextensions/google.colab/files.js\"></script> "
            ],
            "text/plain": [
              "<IPython.core.display.HTML object>"
            ]
          },
          "metadata": {
            "tags": []
          }
        },
        {
          "output_type": "stream",
          "text": [
            "Saving cuirie_0612_3.txt to cuirie_0612_3.txt\n"
          ],
          "name": "stdout"
        }
      ]
    },
    {
      "cell_type": "code",
      "metadata": {
        "id": "Pa5x8VEw-BHB",
        "colab_type": "code",
        "colab": {
          "base_uri": "https://localhost:8080/",
          "height": 88
        },
        "outputId": "f859a436-0131-475d-84fe-32bc211b175f"
      },
      "source": [
        "a = '1 2 3'\n",
        "b = list(a.split())\n",
        "print(b)\n",
        "for j in b:\n",
        "  print(float(j))"
      ],
      "execution_count": null,
      "outputs": [
        {
          "output_type": "stream",
          "text": [
            "['1', '2', '3']\n",
            "1.0\n",
            "2.0\n",
            "3.0\n"
          ],
          "name": "stdout"
        }
      ]
    },
    {
      "cell_type": "code",
      "metadata": {
        "id": "pvcY8Bb16Whc",
        "colab_type": "code",
        "colab": {}
      },
      "source": [
        "f = open('cuirie_0612_3.txt', 'r', encoding='utf-8')\n",
        "reader=csv.reader(f)\n",
        "x = []\n",
        "y = []\n",
        "\n",
        "for i, row in enumerate(reader) :\n",
        "  #pdb.set_trace()\n",
        "  tmp = list(row[0].split())\n",
        "  #print(tmp)\n",
        "  x.append(float(tmp[0]))\n",
        "  y.append(tmp[1:])\n",
        "#x = x[:9]\n",
        "#y = y[:9]\n",
        "y = [[abs(float(k)) for k in Temp] for Temp in y]"
      ],
      "execution_count": null,
      "outputs": []
    },
    {
      "cell_type": "code",
      "metadata": {
        "id": "R5wCHsxD0hAk",
        "colab_type": "code",
        "colab": {
          "base_uri": "https://localhost:8080/",
          "height": 318
        },
        "outputId": "0b9733b4-52a4-4af2-dd41-ff35de5f8596"
      },
      "source": [
        "aver_y = [np.mean([y[i]]) for i in range(len(x))]\n",
        "print(x)\n",
        "print(len(aver_y))\n",
        "plt.scatter(x, aver_y)"
      ],
      "execution_count": null,
      "outputs": [
        {
          "output_type": "stream",
          "text": [
            "[51.0, 51.1, 51.2, 51.3, 51.4, 51.5, 51.6, 51.7, 51.8, 51.9, 52.0, 52.1, 52.2, 52.3, 52.4]\n",
            "15\n"
          ],
          "name": "stdout"
        },
        {
          "output_type": "execute_result",
          "data": {
            "text/plain": [
              "<matplotlib.collections.PathCollection at 0x7f4cf3ffdac8>"
            ]
          },
          "metadata": {
            "tags": []
          },
          "execution_count": 7
        },
        {
          "output_type": "display_data",
          "data": {
            "image/png": "[encoded data removed]",
            "text/plain": [
              "<Figure size 432x288 with 1 Axes>"
            ]
          },
          "metadata": {
            "tags": [],
            "needs_background": "light"
          }
        }
      ]
    },
    {
      "cell_type": "code",
      "metadata": {
        "id": "eNg5XA98vwlq",
        "colab_type": "code",
        "colab": {
          "base_uri": "https://localhost:8080/",
          "height": 35
        },
        "outputId": "99eae7ef-48d8-4f46-d1bb-45f9a5d7635d"
      },
      "source": [
        "print(len(y[0]))"
      ],
      "execution_count": null,
      "outputs": [
        {
          "output_type": "stream",
          "text": [
            "50\n"
          ],
          "name": "stdout"
        }
      ]
    },
    {
      "cell_type": "markdown",
      "metadata": {
        "id": "cUmpM3qGvwly",
        "colab_type": "text"
      },
      "source": [
        "# 2. Implement Chi_square_minimization algorithm"
      ]
    },
    {
      "cell_type": "code",
      "metadata": {
        "id": "43sGZxChvwlz",
        "colab_type": "code",
        "colab": {}
      },
      "source": [
        "# Define Cost function J\n",
        "def cost(x, average, theta, inv):\n",
        "    # Compute cost for linear regression\n",
        "    # J is the cost using theta as the parameter for linear regression to fit the data points in X and y\n",
        "\n",
        "    dif = np.zeros((1,len(x)))\n",
        "    dif_t = np.zeros((len(x),1))\n",
        "    \n",
        "    for i in range(len(x)):\n",
        "      tmp=sqrt(3*(1 - x[i]/theta))\n",
        "      dif[0][i] = average[i] - tmp\n",
        "      dif_t[i][0] = dif[0][i]\n",
        "    \n",
        "    J = np.matmul(dif, np.matmul(inv, dif_t))\n",
        "    return J[0][0]\n"
      ],
      "execution_count": null,
      "outputs": []
    },
    {
      "cell_type": "code",
      "metadata": {
        "id": "_ZrEor_Fdazc",
        "colab_type": "code",
        "colab": {
          "base_uri": "https://localhost:8080/",
          "height": 35
        },
        "outputId": "779e0cbc-1151-4ac5-b009-eee503605353"
      },
      "source": [
        "len(x)"
      ],
      "execution_count": null,
      "outputs": [
        {
          "output_type": "execute_result",
          "data": {
            "text/plain": [
              "15"
            ]
          },
          "metadata": {
            "tags": []
          },
          "execution_count": 9
        }
      ]
    },
    {
      "cell_type": "code",
      "metadata": {
        "id": "S61gaJZyAvgC",
        "colab_type": "code",
        "colab": {
          "base_uri": "https://localhost:8080/",
          "height": 52
        },
        "outputId": "94f8f2ed-9986-4616-c0a7-4d9794bc6041"
      },
      "source": [
        "    dif = np.ones((1,7))\n",
        "    dif_t = np.ones((7,1))\n",
        "    dif[0][2] = 3\n",
        "    dif_t[2] = 5\n",
        "    b = np.matmul(dif, dif_t)\n",
        "    print(b[0][0])"
      ],
      "execution_count": null,
      "outputs": [
        {
          "output_type": "stream",
          "text": [
            "21.0\n",
            "[[21.]]\n"
          ],
          "name": "stdout"
        }
      ]
    },
    {
      "cell_type": "code",
      "metadata": {
        "id": "NiaMA5PKvwl4",
        "colab_type": "code",
        "colab": {}
      },
      "source": [
        "# Implement Gradient descent algorithm\n",
        "def gradient_descent(x, average, theta, alpha, num_iters, inv):\n",
        "    # gradient_descent Performs gradient descent to learn theta\n",
        "    # gradient_descent updates theta by taking num_iters gradient steps with learning rate alpha\n",
        "    \n",
        "    for iter in range(num_iters):\n",
        "        s=[0,0]\n",
        "        rounda = np.zeros((1, len(x)))\n",
        "        roundb = np.zeros((1, len(x)))\n",
        "        dif_t = np.zeros((len(x),1))\n",
        "\n",
        "        for i in range(len(x)):\n",
        "          dif_t[i][0] = sqrt(3*(1-x[i]/theta)) - average[i]\n",
        "          roundb[0][i] = sqrt(3)*x[i]/2/sqrt(1-x[i]/theta)/(theta**2)\n",
        "        ###################################################################################\n",
        "        s = 2*np.matmul(roundb, np.matmul(inv, dif_t))[0][0]\n",
        "\n",
        "        theta-=alpha*s\n",
        "        if theta<max(x):\n",
        "          print(\"err\")\n",
        "          theta = max(x)\n",
        "        ###################################################################################\n",
        "          \n",
        "            \n",
        "        ################################################w###################################\n",
        "        #                                  END OF YOUR CODE                               #\n",
        "        ###################################################################################\n",
        "\n",
        "        # Save the cost J in every iteration    \n",
        "        J = cost(x, average, theta, inv)\n",
        "        #print(\"i, theta\", iter, theta, J)\n",
        "        \n",
        "        if (iter+1)%25000 is 0:\n",
        "            print('cost at %d iterations : %f, theta : %f' %(iter+1, J, theta))\n",
        "            \n",
        "    return theta"
      ],
      "execution_count": null,
      "outputs": []
    },
    {
      "cell_type": "code",
      "metadata": {
        "id": "7oS8NrQ1XBkt",
        "colab_type": "code",
        "colab": {
          "base_uri": "https://localhost:8080/",
          "height": 1000
        },
        "outputId": "0eedf2f9-f2f5-4d37-b304-c0f753c86e65"
      },
      "source": [
        "N = len(x)\n",
        "###################################################################################\n",
        "average = np.zeros((50,N))\n",
        "covariance = np.zeros((50, N, N))\n",
        "theta = np.zeros(50)\n",
        "ki_square = np.zeros(50)\n",
        "dif = np.zeros((1,N))\n",
        "dif_t = np.zeros((N,1))\n",
        "\n",
        "for out in range(50):\n",
        "  print('out : ', out)\n",
        "  for i in range(N):\n",
        "    s = 0\n",
        "    for j in range(50):\n",
        "      if j==out:\n",
        "        continue\n",
        "      s += y[i][j]\n",
        "    average[out][i] = s/49\n",
        "  #plt.scatter(x, average[out])\n",
        "  #pdb.set_trace()\n",
        "  for i in range(N):\n",
        "    for j in range(N):\n",
        "      sum = 0\n",
        "      for k in range(50):\n",
        "        if k==out:\n",
        "          continue\n",
        "        sum += (y[i][k] - average[out][i])*(y[j][k] - average[out][j])\n",
        "      covariance[out][i][j] = sum/(49*48)\n",
        "  #print(\"cov\", covariance[out])\n",
        "\n",
        "  cov_inv = np.linalg.inv(covariance[out])\n",
        "  num_iters = 100000\n",
        "  alpha = 0.00001\n",
        "  theta[out] = 53.6\n",
        "  # compute initial cost\n",
        "  init_J = cost(x, average[out], theta[out], cov_inv)\n",
        "  print('initial cost : %f' %init_J)\n",
        "\n",
        "  # excute gradient descent\n",
        "  theta[out] = gradient_descent(x, average[out], theta[out], alpha, num_iters, cov_inv)\n",
        "\n",
        "  # compute new cost\n",
        "  new_J = cost(x, average[out], theta[out], cov_inv)\n",
        "  for i in range(N):\n",
        "    dif[0][i] = average[out][i] - sqrt(3*(1 - x[i]/theta[out]))\n",
        "    dif_t[i][0] = dif[0][i]\n",
        "  ki_square[out] = np.matmul(dif, np.matmul(cov_inv, dif_t))[0][0]\n",
        "\n",
        "  print('updated theta : ', theta[out])\n",
        "  print('updated cost : %f' %new_J)\n",
        "\n",
        "#def cost(x, average, theta, inv):\n",
        "#def gradient_descent(x, average, theta, alpha, num_iters, inv)\n",
        "\n",
        "#data_x, data_y = x,y\n",
        "###################################################################################\n",
        "#                                  END OF YOUR CODE                               #\n",
        "###################################################################################\n"
      ],
      "execution_count": null,
      "outputs": [
        {
          "output_type": "stream",
          "text": [
            "out :  0\n",
            "initial cost : 488.071794\n",
            "cost at 25000 iterations : 51.133102, theta : 54.901219\n",
            "cost at 50000 iterations : 51.133102, theta : 54.901219\n",
            "cost at 75000 iterations : 51.133102, theta : 54.901219\n",
            "cost at 100000 iterations : 51.133102, theta : 54.901219\n",
            "updated theta :  54.901218839403256\n",
            "updated cost : 51.133102\n",
            "out :  1\n",
            "initial cost : 496.960165\n",
            "cost at 25000 iterations : 49.812908, theta : 54.913307\n",
            "cost at 50000 iterations : 49.812908, theta : 54.913307\n",
            "cost at 75000 iterations : 49.812908, theta : 54.913307\n",
            "cost at 100000 iterations : 49.812908, theta : 54.913307\n",
            "updated theta :  54.913307266897576\n",
            "updated cost : 49.812908\n",
            "out :  2\n",
            "initial cost : 538.298514\n",
            "cost at 25000 iterations : 48.997856, theta : 54.902786\n",
            "cost at 50000 iterations : 48.997856, theta : 54.902786\n",
            "cost at 75000 iterations : 48.997856, theta : 54.902786\n",
            "cost at 100000 iterations : 48.997856, theta : 54.902786\n",
            "updated theta :  54.902785708108475\n",
            "updated cost : 48.997856\n",
            "out :  3\n",
            "initial cost : 488.887355\n",
            "cost at 25000 iterations : 50.060326, theta : 54.906598\n",
            "cost at 50000 iterations : 50.060326, theta : 54.906598\n",
            "cost at 75000 iterations : 50.060326, theta : 54.906598\n",
            "cost at 100000 iterations : 50.060326, theta : 54.906598\n",
            "updated theta :  54.9065984424918\n",
            "updated cost : 50.060326\n",
            "out :  4\n",
            "initial cost : 511.513644\n",
            "cost at 25000 iterations : 51.489669, theta : 54.924073\n",
            "cost at 50000 iterations : 51.489669, theta : 54.924073\n",
            "cost at 75000 iterations : 51.489669, theta : 54.924073\n",
            "cost at 100000 iterations : 51.489669, theta : 54.924073\n",
            "updated theta :  54.92407328175231\n",
            "updated cost : 51.489669\n",
            "out :  5\n",
            "initial cost : 595.170877\n",
            "cost at 25000 iterations : 51.661483, theta : 54.951360\n",
            "cost at 50000 iterations : 51.661483, theta : 54.951360\n",
            "cost at 75000 iterations : 51.661483, theta : 54.951360\n",
            "cost at 100000 iterations : 51.661483, theta : 54.951360\n",
            "updated theta :  54.95135999157959\n",
            "updated cost : 51.661483\n",
            "out :  6\n",
            "initial cost : 523.126681\n",
            "cost at 25000 iterations : 49.470019, theta : 54.890993\n",
            "cost at 50000 iterations : 49.470019, theta : 54.890993\n",
            "cost at 75000 iterations : 49.470019, theta : 54.890993\n",
            "cost at 100000 iterations : 49.470019, theta : 54.890993\n",
            "updated theta :  54.89099317065153\n",
            "updated cost : 49.470019\n",
            "out :  7\n",
            "initial cost : 491.448462\n",
            "cost at 25000 iterations : 51.534677, theta : 54.908547\n",
            "cost at 50000 iterations : 51.534677, theta : 54.908547\n",
            "cost at 75000 iterations : 51.534677, theta : 54.908547\n",
            "cost at 100000 iterations : 51.534677, theta : 54.908547\n",
            "updated theta :  54.90854668546088\n",
            "updated cost : 51.534677\n",
            "out :  8\n",
            "initial cost : 488.170470\n",
            "cost at 25000 iterations : 50.657165, theta : 54.898633\n",
            "cost at 50000 iterations : 50.657165, theta : 54.898633\n",
            "cost at 75000 iterations : 50.657165, theta : 54.898633\n",
            "cost at 100000 iterations : 50.657165, theta : 54.898633\n",
            "updated theta :  54.898633210862016\n",
            "updated cost : 50.657165\n",
            "out :  9\n",
            "initial cost : 666.126424\n",
            "cost at 25000 iterations : 56.813988, theta : 54.995369\n",
            "cost at 50000 iterations : 56.813988, theta : 54.995369\n",
            "cost at 75000 iterations : 56.813988, theta : 54.995369\n",
            "cost at 100000 iterations : 56.813988, theta : 54.995369\n",
            "updated theta :  54.995369415332966\n",
            "updated cost : 56.813988\n",
            "out :  10\n",
            "initial cost : 487.932677\n",
            "cost at 25000 iterations : 52.946132, theta : 54.894493\n",
            "cost at 50000 iterations : 52.946132, theta : 54.894493\n",
            "cost at 75000 iterations : 52.946132, theta : 54.894493\n",
            "cost at 100000 iterations : 52.946132, theta : 54.894493\n",
            "updated theta :  54.89449288044054\n",
            "updated cost : 52.946132\n",
            "out :  11\n",
            "initial cost : 498.889505\n",
            "cost at 25000 iterations : 49.957731, theta : 54.891888\n",
            "cost at 50000 iterations : 49.957731, theta : 54.891888\n",
            "cost at 75000 iterations : 49.957731, theta : 54.891888\n",
            "cost at 100000 iterations : 49.957731, theta : 54.891888\n",
            "updated theta :  54.89188756974605\n",
            "updated cost : 49.957731\n",
            "out :  12\n",
            "initial cost : 487.980275\n",
            "cost at 25000 iterations : 59.941672, theta : 54.865303\n",
            "cost at 50000 iterations : 59.941672, theta : 54.865303\n",
            "cost at 75000 iterations : 59.941672, theta : 54.865303\n",
            "cost at 100000 iterations : 59.941672, theta : 54.865303\n",
            "updated theta :  54.86530255340198\n",
            "updated cost : 59.941672\n",
            "out :  13\n",
            "initial cost : 495.118988\n",
            "cost at 25000 iterations : 51.249541, theta : 54.912839\n",
            "cost at 50000 iterations : 51.249541, theta : 54.912839\n",
            "cost at 75000 iterations : 51.249541, theta : 54.912839\n",
            "cost at 100000 iterations : 51.249541, theta : 54.912839\n",
            "updated theta :  54.912839208283096\n",
            "updated cost : 51.249541\n",
            "out :  14\n",
            "initial cost : 503.403067\n",
            "cost at 25000 iterations : 49.318999, theta : 54.897424\n",
            "cost at 50000 iterations : 49.318999, theta : 54.897424\n",
            "cost at 75000 iterations : 49.318999, theta : 54.897424\n",
            "cost at 100000 iterations : 49.318999, theta : 54.897424\n",
            "updated theta :  54.89742406135895\n",
            "updated cost : 49.318999\n",
            "out :  15\n",
            "initial cost : 487.870521\n",
            "cost at 25000 iterations : 49.226421, theta : 54.905400\n",
            "cost at 50000 iterations : 49.226421, theta : 54.905400\n",
            "cost at 75000 iterations : 49.226421, theta : 54.905400\n",
            "cost at 100000 iterations : 49.226421, theta : 54.905400\n",
            "updated theta :  54.905400056363064\n",
            "updated cost : 49.226421\n",
            "out :  16\n",
            "initial cost : 494.261186\n",
            "cost at 25000 iterations : 52.565333, theta : 54.910911\n",
            "cost at 50000 iterations : 52.565333, theta : 54.910911\n",
            "cost at 75000 iterations : 52.565333, theta : 54.910911\n",
            "cost at 100000 iterations : 52.565333, theta : 54.910911\n",
            "updated theta :  54.910911231316085\n",
            "updated cost : 52.565333\n",
            "out :  17\n",
            "initial cost : 495.168778\n",
            "cost at 25000 iterations : 52.888531, theta : 54.875971\n",
            "cost at 50000 iterations : 52.888531, theta : 54.875971\n",
            "cost at 75000 iterations : 52.888531, theta : 54.875971\n",
            "cost at 100000 iterations : 52.888531, theta : 54.875971\n",
            "updated theta :  54.87597131620833\n",
            "updated cost : 52.888531\n",
            "out :  18\n",
            "initial cost : 488.439769\n",
            "cost at 25000 iterations : 56.839539, theta : 54.889012\n",
            "cost at 50000 iterations : 56.839539, theta : 54.889012\n",
            "cost at 75000 iterations : 56.839539, theta : 54.889012\n",
            "cost at 100000 iterations : 56.839539, theta : 54.889012\n",
            "updated theta :  54.889011802392915\n",
            "updated cost : 56.839539\n",
            "out :  19\n",
            "initial cost : 489.855552\n",
            "cost at 25000 iterations : 51.937852, theta : 54.888460\n",
            "cost at 50000 iterations : 51.937852, theta : 54.888460\n",
            "cost at 75000 iterations : 51.937852, theta : 54.888460\n",
            "cost at 100000 iterations : 51.937852, theta : 54.888460\n",
            "updated theta :  54.88845950588042\n",
            "updated cost : 51.937852\n",
            "out :  20\n",
            "initial cost : 489.993779\n",
            "cost at 25000 iterations : 49.145766, theta : 54.907851\n",
            "cost at 50000 iterations : 49.145766, theta : 54.907851\n",
            "cost at 75000 iterations : 49.145766, theta : 54.907851\n",
            "cost at 100000 iterations : 49.145766, theta : 54.907851\n",
            "updated theta :  54.90785080687476\n",
            "updated cost : 49.145766\n",
            "out :  21\n",
            "initial cost : 488.448192\n",
            "cost at 25000 iterations : 50.069740, theta : 54.905314\n",
            "cost at 50000 iterations : 50.069740, theta : 54.905314\n",
            "cost at 75000 iterations : 50.069740, theta : 54.905314\n",
            "cost at 100000 iterations : 50.069740, theta : 54.905314\n",
            "updated theta :  54.90531397881174\n",
            "updated cost : 50.069740\n",
            "out :  22\n",
            "initial cost : 492.807287\n",
            "cost at 25000 iterations : 52.549607, theta : 54.909457\n",
            "cost at 50000 iterations : 52.549607, theta : 54.909457\n",
            "cost at 75000 iterations : 52.549607, theta : 54.909457\n",
            "cost at 100000 iterations : 52.549607, theta : 54.909457\n",
            "updated theta :  54.909456912752376\n",
            "updated cost : 52.549607\n",
            "out :  23\n",
            "initial cost : 490.560841\n",
            "cost at 25000 iterations : 52.927078, theta : 54.881897\n",
            "cost at 50000 iterations : 52.927078, theta : 54.881897\n",
            "cost at 75000 iterations : 52.927078, theta : 54.881897\n",
            "cost at 100000 iterations : 52.927078, theta : 54.881897\n",
            "updated theta :  54.88189715441094\n",
            "updated cost : 52.927078\n",
            "out :  24\n",
            "initial cost : 487.855426\n",
            "cost at 25000 iterations : 49.077936, theta : 54.906129\n",
            "cost at 50000 iterations : 49.077936, theta : 54.906129\n",
            "cost at 75000 iterations : 49.077936, theta : 54.906129\n",
            "cost at 100000 iterations : 49.077936, theta : 54.906129\n",
            "updated theta :  54.90612942536434\n",
            "updated cost : 49.077936\n",
            "out :  25\n",
            "initial cost : 529.968978\n",
            "cost at 25000 iterations : 51.123315, theta : 54.931161\n",
            "cost at 50000 iterations : 51.123315, theta : 54.931161\n",
            "cost at 75000 iterations : 51.123315, theta : 54.931161\n",
            "cost at 100000 iterations : 51.123315, theta : 54.931161\n",
            "updated theta :  54.93116127761342\n",
            "updated cost : 51.123315\n",
            "out :  26\n",
            "initial cost : 520.308409\n",
            "cost at 25000 iterations : 50.121009, theta : 54.882411\n",
            "cost at 50000 iterations : 50.121009, theta : 54.882411\n",
            "cost at 75000 iterations : 50.121009, theta : 54.882411\n",
            "cost at 100000 iterations : 50.121009, theta : 54.882411\n",
            "updated theta :  54.88241060481418\n",
            "updated cost : 50.121009\n",
            "out :  27\n",
            "initial cost : 487.984629\n",
            "cost at 25000 iterations : 56.397769, theta : 54.884489\n",
            "cost at 50000 iterations : 56.397769, theta : 54.884489\n",
            "cost at 75000 iterations : 56.397769, theta : 54.884489\n",
            "cost at 100000 iterations : 56.397769, theta : 54.884489\n",
            "updated theta :  54.88448892740173\n",
            "updated cost : 56.397769\n",
            "out :  28\n",
            "initial cost : 501.483471\n",
            "cost at 25000 iterations : 51.488377, theta : 54.917478\n",
            "cost at 50000 iterations : 51.488377, theta : 54.917478\n",
            "cost at 75000 iterations : 51.488377, theta : 54.917478\n",
            "cost at 100000 iterations : 51.488377, theta : 54.917478\n",
            "updated theta :  54.91747834756266\n",
            "updated cost : 51.488377\n",
            "out :  29\n",
            "initial cost : 515.903502\n",
            "cost at 25000 iterations : 53.014026, theta : 54.929088\n",
            "cost at 50000 iterations : 53.014026, theta : 54.929088\n",
            "cost at 75000 iterations : 53.014026, theta : 54.929088\n",
            "cost at 100000 iterations : 53.014026, theta : 54.929088\n",
            "updated theta :  54.92908840002178\n",
            "updated cost : 53.014026\n",
            "out :  30\n",
            "initial cost : 506.032127\n",
            "cost at 25000 iterations : 56.781132, theta : 54.920998\n",
            "cost at 50000 iterations : 56.781132, theta : 54.920998\n",
            "cost at 75000 iterations : 56.781132, theta : 54.920998\n",
            "cost at 100000 iterations : 56.781132, theta : 54.920998\n",
            "updated theta :  54.920998325011965\n",
            "updated cost : 56.781132\n",
            "out :  31\n",
            "initial cost : 500.750696\n",
            "cost at 25000 iterations : 49.187680, theta : 54.911277\n",
            "cost at 50000 iterations : 49.187680, theta : 54.911277\n",
            "cost at 75000 iterations : 49.187680, theta : 54.911277\n",
            "cost at 100000 iterations : 49.187680, theta : 54.911277\n",
            "updated theta :  54.911276592359435\n",
            "updated cost : 49.187680\n",
            "out :  32\n",
            "initial cost : 504.188171\n",
            "cost at 25000 iterations : 51.093257, theta : 54.879857\n",
            "cost at 50000 iterations : 51.093257, theta : 54.879857\n",
            "cost at 75000 iterations : 51.093257, theta : 54.879857\n",
            "cost at 100000 iterations : 51.093257, theta : 54.879857\n",
            "updated theta :  54.87985740766092\n",
            "updated cost : 51.093257\n",
            "out :  33\n",
            "initial cost : 499.410422\n",
            "cost at 25000 iterations : 55.752741, theta : 54.914115\n",
            "cost at 50000 iterations : 55.752741, theta : 54.914115\n",
            "cost at 75000 iterations : 55.752741, theta : 54.914115\n",
            "cost at 100000 iterations : 55.752741, theta : 54.914115\n",
            "updated theta :  54.91411458794294\n",
            "updated cost : 55.752741\n",
            "out :  34\n",
            "initial cost : 489.389558\n",
            "cost at 25000 iterations : 55.326188, theta : 54.874466\n",
            "cost at 50000 iterations : 55.326188, theta : 54.874466\n",
            "cost at 75000 iterations : 55.326188, theta : 54.874466\n",
            "cost at 100000 iterations : 55.326188, theta : 54.874466\n",
            "updated theta :  54.87446578022553\n",
            "updated cost : 55.326188\n",
            "out :  35\n",
            "initial cost : 531.927578\n",
            "cost at 25000 iterations : 50.040942, theta : 54.925786\n",
            "cost at 50000 iterations : 50.040942, theta : 54.925786\n",
            "cost at 75000 iterations : 50.040942, theta : 54.925786\n",
            "cost at 100000 iterations : 50.040942, theta : 54.925786\n",
            "updated theta :  54.92578588709638\n",
            "updated cost : 50.040942\n",
            "out :  36\n",
            "initial cost : 511.852258\n",
            "cost at 25000 iterations : 51.578940, theta : 54.924311\n",
            "cost at 50000 iterations : 51.578940, theta : 54.924311\n",
            "cost at 75000 iterations : 51.578940, theta : 54.924311\n",
            "cost at 100000 iterations : 51.578940, theta : 54.924311\n",
            "updated theta :  54.92431099767922\n",
            "updated cost : 51.578940\n",
            "out :  37\n",
            "initial cost : 489.954975\n",
            "cost at 25000 iterations : 49.040716, theta : 54.907493\n",
            "cost at 50000 iterations : 49.040716, theta : 54.907493\n",
            "cost at 75000 iterations : 49.040716, theta : 54.907493\n",
            "cost at 100000 iterations : 49.040716, theta : 54.907493\n",
            "updated theta :  54.90749345632092\n",
            "updated cost : 49.040716\n",
            "out :  38\n",
            "initial cost : 566.431877\n",
            "cost at 25000 iterations : 50.341399, theta : 54.935444\n",
            "cost at 50000 iterations : 50.341399, theta : 54.935444\n",
            "cost at 75000 iterations : 50.341399, theta : 54.935444\n",
            "cost at 100000 iterations : 50.341399, theta : 54.935444\n",
            "updated theta :  54.93544404555619\n",
            "updated cost : 50.341399\n",
            "out :  39\n",
            "initial cost : 488.915162\n",
            "cost at 25000 iterations : 49.914733, theta : 54.907011\n",
            "cost at 50000 iterations : 49.914733, theta : 54.907011\n",
            "cost at 75000 iterations : 49.914733, theta : 54.907011\n",
            "cost at 100000 iterations : 49.914733, theta : 54.907011\n",
            "updated theta :  54.90701132836425\n",
            "updated cost : 49.914733\n",
            "out :  40\n",
            "initial cost : 490.347080\n",
            "cost at 25000 iterations : 49.169864, theta : 54.908175\n",
            "cost at 50000 iterations : 49.169864, theta : 54.908175\n",
            "cost at 75000 iterations : 49.169864, theta : 54.908175\n",
            "cost at 100000 iterations : 49.169864, theta : 54.908175\n",
            "updated theta :  54.908174646736825\n",
            "updated cost : 49.169864\n",
            "out :  41\n",
            "initial cost : 527.355744\n",
            "cost at 25000 iterations : 51.077624, theta : 54.929834\n",
            "cost at 50000 iterations : 51.077624, theta : 54.929834\n",
            "cost at 75000 iterations : 51.077624, theta : 54.929834\n",
            "cost at 100000 iterations : 51.077624, theta : 54.929834\n",
            "updated theta :  54.929833608207076\n",
            "updated cost : 51.077624\n",
            "out :  42\n",
            "initial cost : 495.993956\n",
            "cost at 25000 iterations : 49.985739, theta : 54.912973\n",
            "cost at 50000 iterations : 49.985739, theta : 54.912973\n",
            "cost at 75000 iterations : 49.985739, theta : 54.912973\n",
            "cost at 100000 iterations : 49.985739, theta : 54.912973\n",
            "updated theta :  54.91297335536159\n",
            "updated cost : 49.985739\n",
            "out :  43\n",
            "initial cost : 490.168990\n",
            "cost at 25000 iterations : 49.271368, theta : 54.908447\n",
            "cost at 50000 iterations : 49.271368, theta : 54.908447\n",
            "cost at 75000 iterations : 49.271368, theta : 54.908447\n",
            "cost at 100000 iterations : 49.271368, theta : 54.908447\n",
            "updated theta :  54.90844689717687\n",
            "updated cost : 49.271368\n",
            "out :  44\n",
            "initial cost : 490.779863\n",
            "cost at 25000 iterations : 51.186363, theta : 54.907749\n",
            "cost at 50000 iterations : 51.186363, theta : 54.907749\n",
            "cost at 75000 iterations : 51.186363, theta : 54.907749\n",
            "cost at 100000 iterations : 51.186363, theta : 54.907749\n",
            "updated theta :  54.90774910010794\n",
            "updated cost : 51.186363\n",
            "out :  45\n",
            "initial cost : 499.483662\n",
            "cost at 25000 iterations : 53.027681, theta : 54.915880\n",
            "cost at 50000 iterations : 53.027681, theta : 54.915880\n",
            "cost at 75000 iterations : 53.027681, theta : 54.915880\n",
            "cost at 100000 iterations : 53.027681, theta : 54.915880\n",
            "updated theta :  54.915879976544545\n",
            "updated cost : 53.027681\n",
            "out :  46\n",
            "initial cost : 490.060864\n",
            "cost at 25000 iterations : 60.409485, theta : 54.885291\n",
            "cost at 50000 iterations : 60.409485, theta : 54.885291\n",
            "cost at 75000 iterations : 60.409485, theta : 54.885291\n",
            "cost at 100000 iterations : 60.409485, theta : 54.885291\n",
            "updated theta :  54.8852910889742\n",
            "updated cost : 60.409485\n",
            "out :  47\n",
            "initial cost : 491.498561\n",
            "cost at 25000 iterations : 48.978410, theta : 54.906912\n",
            "cost at 50000 iterations : 48.978410, theta : 54.906912\n",
            "cost at 75000 iterations : 48.978410, theta : 54.906912\n",
            "cost at 100000 iterations : 48.978410, theta : 54.906912\n",
            "updated theta :  54.90691221852691\n",
            "updated cost : 48.978410\n",
            "out :  48\n",
            "initial cost : 489.405127\n",
            "cost at 25000 iterations : 52.052317, theta : 54.903739\n",
            "cost at 50000 iterations : 52.052317, theta : 54.903739\n",
            "cost at 75000 iterations : 52.052317, theta : 54.903739\n",
            "cost at 100000 iterations : 52.052317, theta : 54.903739\n",
            "updated theta :  54.90373854475217\n",
            "updated cost : 52.052317\n",
            "out :  49\n",
            "initial cost : 500.325562\n",
            "cost at 25000 iterations : 49.019492, theta : 54.903679\n",
            "cost at 50000 iterations : 49.019492, theta : 54.903679\n",
            "cost at 75000 iterations : 49.019492, theta : 54.903679\n",
            "cost at 100000 iterations : 49.019492, theta : 54.903679\n",
            "updated theta :  54.90367946812842\n",
            "updated cost : 49.019492\n"
          ],
          "name": "stdout"
        }
      ]
    },
    {
      "cell_type": "code",
      "metadata": {
        "id": "GPP3YlQnjAHl",
        "colab_type": "code",
        "colab": {
          "base_uri": "https://localhost:8080/",
          "height": 195
        },
        "outputId": "8e4ba197-13c3-4a87-aade-129779ab2675"
      },
      "source": [
        "theta"
      ],
      "execution_count": null,
      "outputs": [
        {
          "output_type": "execute_result",
          "data": {
            "text/plain": [
              "array([54.90121884, 54.91330727, 54.90278571, 54.90659844, 54.92407328,\n",
              "       54.95135999, 54.89099317, 54.90854669, 54.89863321, 54.99536942,\n",
              "       54.89449288, 54.89188757, 54.86530255, 54.91283921, 54.89742406,\n",
              "       54.90540006, 54.91091123, 54.87597132, 54.8890118 , 54.88845951,\n",
              "       54.90785081, 54.90531398, 54.90945691, 54.88189715, 54.90612943,\n",
              "       54.93116128, 54.8824106 , 54.88448893, 54.91747835, 54.9290884 ,\n",
              "       54.92099833, 54.91127659, 54.87985741, 54.91411459, 54.87446578,\n",
              "       54.92578589, 54.924311  , 54.90749346, 54.93544405, 54.90701133,\n",
              "       54.90817465, 54.92983361, 54.91297336, 54.9084469 , 54.9077491 ,\n",
              "       54.91587998, 54.88529109, 54.90691222, 54.90373854, 54.90367947])"
            ]
          },
          "metadata": {
            "tags": []
          },
          "execution_count": 18
        }
      ]
    },
    {
      "cell_type": "code",
      "metadata": {
        "id": "sGF6kLtOy6s5",
        "colab_type": "code",
        "colab": {
          "base_uri": "https://localhost:8080/",
          "height": 195
        },
        "outputId": "0458209f-6298-4df5-f24b-703d3f0c7c65"
      },
      "source": [
        "ki_square"
      ],
      "execution_count": null,
      "outputs": [
        {
          "output_type": "execute_result",
          "data": {
            "text/plain": [
              "array([51.1331019 , 49.81290847, 48.99785611, 50.06032625, 51.4896692 ,\n",
              "       51.66148265, 49.47001947, 51.53467678, 50.65716451, 56.81398811,\n",
              "       52.94613181, 49.95773054, 59.94167172, 51.24954073, 49.31899929,\n",
              "       49.22642135, 52.56533307, 52.88853119, 56.83953923, 51.93785247,\n",
              "       49.14576626, 50.06973997, 52.54960682, 52.92707823, 49.07793575,\n",
              "       51.12331514, 50.12100935, 56.39776859, 51.48837661, 53.01402636,\n",
              "       56.7811316 , 49.18767954, 51.09325661, 55.7527408 , 55.32618772,\n",
              "       50.0409424 , 51.57893993, 49.04071616, 50.341399  , 49.91473275,\n",
              "       49.16986363, 51.0776241 , 49.98573898, 49.27136825, 51.18636304,\n",
              "       53.02768055, 60.40948485, 48.97840968, 52.05231749, 49.01949248])"
            ]
          },
          "metadata": {
            "tags": []
          },
          "execution_count": 26
        }
      ]
    },
    {
      "cell_type": "code",
      "metadata": {
        "id": "cOJhOW6tNO96",
        "colab_type": "code",
        "colab": {
          "base_uri": "https://localhost:8080/",
          "height": 35
        },
        "outputId": "d542ced9-e140-402d-a476-af61ecd8d452"
      },
      "source": [
        "dof"
      ],
      "execution_count": null,
      "outputs": [
        {
          "output_type": "execute_result",
          "data": {
            "text/plain": [
              "14"
            ]
          },
          "metadata": {
            "tags": []
          },
          "execution_count": 25
        }
      ]
    },
    {
      "cell_type": "code",
      "metadata": {
        "id": "QPV0amWRvwl7",
        "colab_type": "code",
        "colab": {
          "base_uri": "https://localhost:8080/",
          "height": 88
        },
        "outputId": "95226f89-de56-4c74-9143-df3bd1d11bea"
      },
      "source": [
        "theta_aver = np.zeros(1)\n",
        "theta_err = np.zeros(1)\n",
        "theta_sum = np.zeros(1)\n",
        "\n",
        "for i in range(1):\n",
        "  tmp = 0\n",
        "  for j in range(50):\n",
        "    tmp += theta[j]\n",
        "  theta_aver[i] = tmp/50\n",
        "\n",
        "for i in range(1):\n",
        "  tmp = 0\n",
        "  for j in range(50):\n",
        "    tmp += (theta_aver[i] - theta[j])**2\n",
        "  theta_err[i] = sqrt(49/50*tmp)\n",
        "\n",
        "print(\"Tc_average : \", theta_aver[0])\n",
        "print(\"Tc_err : \", theta_err[0])\n",
        "\n",
        "tmp = 0\n",
        "for i in range(50):\n",
        "  tmp += ki_square[i]\n",
        "ki_aver = tmp/50\n",
        "dof = N-1 #degree of freedom. 9-2=7\n",
        "\n",
        "tmp = 0\n",
        "for i in range(50):\n",
        "  tmp += (ki_aver/dof - ki_square[i]/dof)**2\n",
        "ki_err = sqrt(49/50*tmp)\n",
        "\n",
        "print(\"chi_square/dof : \", ki_aver/dof)\n",
        "print(\"chi/dof_err : \", ki_err)\n",
        "\n"
      ],
      "execution_count": null,
      "outputs": [
        {
          "output_type": "stream",
          "text": [
            "Tc_average :  54.90726598692588\n",
            "Tc_err :  0.14673343501938452\n",
            "chi_square/dof :  3.696648053531225\n",
            "chi/dof_err :  1.3951226017710587\n"
          ],
          "name": "stdout"
        }
      ]
    },
    {
      "cell_type": "markdown",
      "metadata": {
        "id": "WA6N-gbHvwl_",
        "colab_type": "text"
      },
      "source": [
        "# 3. Plot the linear regression fit"
      ]
    },
    {
      "cell_type": "code",
      "metadata": {
        "id": "dyXPNwMEfDxW",
        "colab_type": "code",
        "colab": {
          "base_uri": "https://localhost:8080/",
          "height": 386
        },
        "outputId": "ace81acb-cd83-4ddf-bc5a-9dd066c8f41f"
      },
      "source": [
        "# Plot the scatter plot and linear regression fit\n",
        "\n",
        "###################################################################################\n",
        "aver_y = [np.mean([y[i]]) for i in range(len(x))]\n",
        "print(x)\n",
        "print(aver_y)\n",
        "\n",
        "plt.xlabel('T(K)')\n",
        "plt.ylabel('L')\n",
        "plt.title('T-L graph')\n",
        "plt.scatter(x, aver_y)\n",
        "new_x=np.arange(min(x),55,0.1)\n",
        "print(len(new_x))\n",
        "nx=len(new_x)\n",
        "import pdb\n",
        "#pdb.set_trace()\n",
        "#new_y=new_x*(theta[1]*np.ones(len(new_x)))+(theta[0]*np.ones(len(new_x)))\n",
        "new_y = np.sqrt(3*(np.ones(nx) - new_x/theta_aver[0]))\n",
        "plt.plot(new_x,new_y,'r')\n",
        "\n"
      ],
      "execution_count": null,
      "outputs": [
        {
          "output_type": "stream",
          "text": [
            "[51.0, 51.1, 51.2, 51.3, 51.4, 51.5, 51.6, 51.7, 51.8, 51.9, 52.0, 52.1, 52.2, 52.3, 52.4]\n",
            "[0.45583999999999997, 0.50384, 0.4562800000000001, 0.4652400000000001, 0.4134399999999999, 0.41408000000000006, 0.4414, 0.39232, 0.4649999999999999, 0.38543999999999995, 0.39452000000000004, 0.3683600000000001, 0.35436, 0.35168, 0.33043999999999996]\n",
            "40\n"
          ],
          "name": "stdout"
        },
        {
          "output_type": "execute_result",
          "data": {
            "text/plain": [
              "[<matplotlib.lines.Line2D at 0x7f4cf119dbe0>]"
            ]
          },
          "metadata": {
            "tags": []
          },
          "execution_count": 30
        },
        {
          "output_type": "display_data",
          "data": {
            "image/png": "[encoded data removed]",
            "text/plain": [
              "<Figure size 432x288 with 1 Axes>"
            ]
          },
          "metadata": {
            "tags": [],
            "needs_background": "light"
          }
        }
      ]
    }
  ]
}